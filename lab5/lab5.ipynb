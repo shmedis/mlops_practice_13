{
 "cells": [
  {
   "attachments": {},
   "cell_type": "markdown",
   "metadata": {},
   "source": [
    "# Лабораторная работа №5"
   ]
  },
  {
   "cell_type": "code",
   "execution_count": 1,
   "metadata": {},
   "outputs": [],
   "source": [
    "import numpy as np\n",
    "from sklearn.linear_model import LinearRegression\n",
    "import pytest"
   ]
  },
  {
   "attachments": {},
   "cell_type": "markdown",
   "metadata": {},
   "source": [
    "## Создание трех датасетов с качественными данными"
   ]
  },
  {
   "cell_type": "code",
   "execution_count": 2,
   "metadata": {},
   "outputs": [],
   "source": [
    "def create_quality_datasets():\n",
    "    dataset1_X = np.random.rand(100, 1)  # Пример первого признака\n",
    "    dataset1_y = 2 + 3 * dataset1_X + np.random.randn(100, 1)  # Пример зависимой переменной\n",
    "    dataset2_X = np.random.rand(100, 1)  # Пример второго признака\n",
    "    dataset2_y = 5 - 4 * dataset2_X + np.random.randn(100, 1)  # Пример зависимой переменной\n",
    "    dataset3_X = np.random.rand(100, 1)  # Пример третьего признака\n",
    "    dataset3_y = 1 + dataset3_X + np.random.randn(100, 1)  # Пример зависимой переменной\n",
    "    \n",
    "    return [(dataset1_X, dataset1_y), (dataset2_X, dataset2_y), (dataset3_X, dataset3_y)]\n"
   ]
  },
  {
   "attachments": {},
   "cell_type": "markdown",
   "metadata": {},
   "source": [
    "\n",
    "# Создание датасета с шумом"
   ]
  },
  {
   "cell_type": "code",
   "execution_count": 3,
   "metadata": {},
   "outputs": [],
   "source": [
    "def create_noisy_dataset():\n",
    "    X = np.random.rand(100, 1)  # Пример признака\n",
    "    y = 5 + 2 * X + np.random.normal(loc=0, scale=10, size=(100, 1))  # Пример зависимой переменной с шумом\n",
    "    \n",
    "    return X, y"
   ]
  },
  {
   "attachments": {},
   "cell_type": "markdown",
   "metadata": {},
   "source": [
    "# Обучение модели линейной регрессии на одном из качественных датасетов"
   ]
  },
  {
   "cell_type": "code",
   "execution_count": 4,
   "metadata": {},
   "outputs": [],
   "source": [
    "def train_linear_regression(dataset):\n",
    "    X, y = dataset\n",
    "    model = LinearRegression()\n",
    "    model.fit(X, y)\n",
    "    \n",
    "    return model"
   ]
  },
  {
   "attachments": {},
   "cell_type": "markdown",
   "metadata": {},
   "source": [
    "# Тестирование модели на разных датасетах"
   ]
  },
  {
   "cell_type": "code",
   "execution_count": 17,
   "metadata": {},
   "outputs": [],
   "source": [
    "def test_model(model, dataset):\n",
    "    X, y = dataset\n",
    "    y_pred = model.predict(X)\n",
    "    mse = np.mean((y_pred - y) ** 2)\n",
    "    \n",
    "    assert mse < 10, \"MSE слишком большая!\""
   ]
  },
  {
   "attachments": {},
   "cell_type": "markdown",
   "metadata": {},
   "source": [
    "# Тестирование работы модели на датасете с шумом"
   ]
  },
  {
   "cell_type": "code",
   "execution_count": 18,
   "metadata": {},
   "outputs": [],
   "source": [
    "def test_noisy_dataset(model):\n",
    "    X, y = create_noisy_dataset()\n",
    "    y_pred = model.predict(X)\n",
    "    mse = np.mean((y_pred - y) ** 2)\n",
    "    \n",
    "    assert mse < 100, \"MSE на шумном датасете слишком большая!\""
   ]
  },
  {
   "cell_type": "markdown",
   "metadata": {},
   "source": [
    "# Тестирование функций"
   ]
  },
  {
   "cell_type": "code",
   "execution_count": 6,
   "metadata": {},
   "outputs": [],
   "source": [
    "def test_functions():\n",
    "    datasets = create_quality_datasets()\n",
    "    model = train_linear_regression(datasets[0])\n",
    "    \n",
    "    for dataset in datasets:\n",
    "        test_model(model, dataset)\n",
    "    \n",
    "    test_noisy_dataset(model)"
   ]
  },
  {
   "attachments": {},
   "cell_type": "markdown",
   "metadata": {},
   "source": [
    "# Запуск тестов с использованием Pytest"
   ]
  },
  {
   "cell_type": "code",
   "execution_count": 20,
   "metadata": {},
   "outputs": [],
   "source": [
    "datasets = create_quality_datasets()\n",
    "model = train_linear_regression(datasets[0])\n",
    "test_functions()"
   ]
  }
 ],
 "metadata": {
  "kernelspec": {
   "display_name": "base",
   "language": "python",
   "name": "python3"
  },
  "language_info": {
   "codemirror_mode": {
    "name": "ipython",
    "version": 3
   },
   "file_extension": ".py",
   "mimetype": "text/x-python",
   "name": "python",
   "nbconvert_exporter": "python",
   "pygments_lexer": "ipython3",
   "version": "3.10.6"
  },
  "orig_nbformat": 4
 },
 "nbformat": 4,
 "nbformat_minor": 2
}
